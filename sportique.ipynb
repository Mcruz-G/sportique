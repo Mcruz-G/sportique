{
 "cells": [
  {
   "cell_type": "code",
   "execution_count": 10,
   "metadata": {},
   "outputs": [],
   "source": [
    "from datetime import datetime, timedelta\n",
    "from data_warehouse.utils import load_game_ids, load_teams_data, load_nba_live_data"
   ]
  },
  {
   "cell_type": "code",
   "execution_count": 11,
   "metadata": {},
   "outputs": [],
   "source": [
    "date = datetime.now().date() - timedelta(days=3)\n",
    "home_team, away_team = \"Los Angeles Lakers\", \"Atlanta Hawks\"\n",
    "game_ids, teams_data= load_game_ids(), load_teams_data()"
   ]
  },
  {
   "cell_type": "code",
   "execution_count": 12,
   "metadata": {},
   "outputs": [],
   "source": [
    "nba_live_data = load_nba_live_data(game_ids, home_team, away_team, date)\n"
   ]
  },
  {
   "cell_type": "code",
   "execution_count": 18,
   "metadata": {},
   "outputs": [
    {
     "data": {
      "text/plain": [
       "Index(['TIME_ACTUAL', 'PERIOD', 'SCORE_HOME', 'SCORE_AWAY', 'TOTAL_SCORE',\n",
       "       'SPREAD', 'CLOCK', 'PLAYER_NAME', 'PLAYER_NAME_2', 'FOUL_TECHNICAL',\n",
       "       'FOUL_PERSONAL', 'IS_FIELD_GOAL', 'SHOT_DISTANCE', 'ASSIST_TOTAL',\n",
       "       'TURNOVER_TOTAL', 'POINTS_TOTAL', 'REBOUND_TOTAL', 'X_LEGACY',\n",
       "       'Y_LEGACY'],\n",
       "      dtype='object')"
      ]
     },
     "execution_count": 18,
     "metadata": {},
     "output_type": "execute_result"
    }
   ],
   "source": [
    "nba_live_data[nba_live_data.PERIOD < 4].iloc[-20:].columns\n"
   ]
  },
  {
   "cell_type": "code",
   "execution_count": 4,
   "metadata": {},
   "outputs": [
    {
     "data": {
      "text/html": [
       "<div>\n",
       "<style scoped>\n",
       "    .dataframe tbody tr th:only-of-type {\n",
       "        vertical-align: middle;\n",
       "    }\n",
       "\n",
       "    .dataframe tbody tr th {\n",
       "        vertical-align: top;\n",
       "    }\n",
       "\n",
       "    .dataframe thead th {\n",
       "        text-align: right;\n",
       "    }\n",
       "</style>\n",
       "<table border=\"1\" class=\"dataframe\">\n",
       "  <thead>\n",
       "    <tr style=\"text-align: right;\">\n",
       "      <th></th>\n",
       "      <th>TIME_ACTUAL</th>\n",
       "      <th>TOTAL_SCORE</th>\n",
       "    </tr>\n",
       "  </thead>\n",
       "  <tbody>\n",
       "    <tr>\n",
       "      <th>450</th>\n",
       "      <td>2022-01-08 05:03:24.900000+00:00</td>\n",
       "      <td>192.0</td>\n",
       "    </tr>\n",
       "    <tr>\n",
       "      <th>451</th>\n",
       "      <td>2022-01-08 05:03:38.100000+00:00</td>\n",
       "      <td>195.0</td>\n",
       "    </tr>\n",
       "    <tr>\n",
       "      <th>452</th>\n",
       "      <td>2022-01-08 05:03:57.600000+00:00</td>\n",
       "      <td>197.0</td>\n",
       "    </tr>\n",
       "    <tr>\n",
       "      <th>453</th>\n",
       "      <td>2022-01-08 05:04:00.800000+00:00</td>\n",
       "      <td>197.0</td>\n",
       "    </tr>\n",
       "    <tr>\n",
       "      <th>454</th>\n",
       "      <td>2022-01-08 05:04:25.500000+00:00</td>\n",
       "      <td>197.0</td>\n",
       "    </tr>\n",
       "    <tr>\n",
       "      <th>455</th>\n",
       "      <td>2022-01-08 05:04:55+00:00</td>\n",
       "      <td>197.0</td>\n",
       "    </tr>\n",
       "    <tr>\n",
       "      <th>456</th>\n",
       "      <td>2022-01-08 05:04:55+00:00</td>\n",
       "      <td>197.0</td>\n",
       "    </tr>\n",
       "    <tr>\n",
       "      <th>457</th>\n",
       "      <td>2022-01-08 05:05:10.400000+00:00</td>\n",
       "      <td>198.0</td>\n",
       "    </tr>\n",
       "    <tr>\n",
       "      <th>458</th>\n",
       "      <td>2022-01-08 05:05:28.300000+00:00</td>\n",
       "      <td>201.0</td>\n",
       "    </tr>\n",
       "    <tr>\n",
       "      <th>459</th>\n",
       "      <td>2022-01-08 05:05:40.200000+00:00</td>\n",
       "      <td>204.0</td>\n",
       "    </tr>\n",
       "    <tr>\n",
       "      <th>460</th>\n",
       "      <td>2022-01-08 05:05:56.200000+00:00</td>\n",
       "      <td>204.0</td>\n",
       "    </tr>\n",
       "    <tr>\n",
       "      <th>461</th>\n",
       "      <td>2022-01-08 05:05:56.200000+00:00</td>\n",
       "      <td>204.0</td>\n",
       "    </tr>\n",
       "    <tr>\n",
       "      <th>462</th>\n",
       "      <td>2022-01-08 05:06:06.300000+00:00</td>\n",
       "      <td>204.0</td>\n",
       "    </tr>\n",
       "    <tr>\n",
       "      <th>463</th>\n",
       "      <td>2022-01-08 05:06:06.300000+00:00</td>\n",
       "      <td>204.0</td>\n",
       "    </tr>\n",
       "    <tr>\n",
       "      <th>464</th>\n",
       "      <td>2022-01-08 05:06:21.900000+00:00</td>\n",
       "      <td>204.0</td>\n",
       "    </tr>\n",
       "    <tr>\n",
       "      <th>465</th>\n",
       "      <td>2022-01-08 05:06:56.900000+00:00</td>\n",
       "      <td>205.0</td>\n",
       "    </tr>\n",
       "    <tr>\n",
       "      <th>467</th>\n",
       "      <td>2022-01-08 05:06:57.500000+00:00</td>\n",
       "      <td>205.0</td>\n",
       "    </tr>\n",
       "    <tr>\n",
       "      <th>466</th>\n",
       "      <td>2022-01-08 05:06:57.500000+00:00</td>\n",
       "      <td>205.0</td>\n",
       "    </tr>\n",
       "    <tr>\n",
       "      <th>468</th>\n",
       "      <td>2022-01-08 05:07:25.500000+00:00</td>\n",
       "      <td>206.0</td>\n",
       "    </tr>\n",
       "    <tr>\n",
       "      <th>469</th>\n",
       "      <td>2022-01-08 05:07:42+00:00</td>\n",
       "      <td>208.0</td>\n",
       "    </tr>\n",
       "    <tr>\n",
       "      <th>470</th>\n",
       "      <td>2022-01-08 05:08:03.500000+00:00</td>\n",
       "      <td>208.0</td>\n",
       "    </tr>\n",
       "    <tr>\n",
       "      <th>471</th>\n",
       "      <td>2022-01-08 05:08:03.500000+00:00</td>\n",
       "      <td>208.0</td>\n",
       "    </tr>\n",
       "    <tr>\n",
       "      <th>472</th>\n",
       "      <td>2022-01-08 05:08:03.500000+00:00</td>\n",
       "      <td>208.0</td>\n",
       "    </tr>\n",
       "    <tr>\n",
       "      <th>473</th>\n",
       "      <td>2022-01-08 05:08:07.500000+00:00</td>\n",
       "      <td>208.0</td>\n",
       "    </tr>\n",
       "    <tr>\n",
       "      <th>474</th>\n",
       "      <td>2022-01-08 05:08:07.500000+00:00</td>\n",
       "      <td>208.0</td>\n",
       "    </tr>\n",
       "    <tr>\n",
       "      <th>475</th>\n",
       "      <td>2022-01-08 05:08:36.800000+00:00</td>\n",
       "      <td>210.0</td>\n",
       "    </tr>\n",
       "    <tr>\n",
       "      <th>476</th>\n",
       "      <td>2022-01-08 05:08:52.800000+00:00</td>\n",
       "      <td>212.0</td>\n",
       "    </tr>\n",
       "    <tr>\n",
       "      <th>477</th>\n",
       "      <td>2022-01-08 05:09:02.900000+00:00</td>\n",
       "      <td>214.0</td>\n",
       "    </tr>\n",
       "    <tr>\n",
       "      <th>478</th>\n",
       "      <td>2022-01-08 05:09:05.800000+00:00</td>\n",
       "      <td>214.0</td>\n",
       "    </tr>\n",
       "    <tr>\n",
       "      <th>479</th>\n",
       "      <td>2022-01-08 05:09:34.400000+00:00</td>\n",
       "      <td>215.0</td>\n",
       "    </tr>\n",
       "    <tr>\n",
       "      <th>480</th>\n",
       "      <td>2022-01-08 05:09:49.800000+00:00</td>\n",
       "      <td>217.0</td>\n",
       "    </tr>\n",
       "    <tr>\n",
       "      <th>481</th>\n",
       "      <td>2022-01-08 05:10:04.700000+00:00</td>\n",
       "      <td>219.0</td>\n",
       "    </tr>\n",
       "    <tr>\n",
       "      <th>482</th>\n",
       "      <td>2022-01-08 05:10:22.500000+00:00</td>\n",
       "      <td>219.0</td>\n",
       "    </tr>\n",
       "    <tr>\n",
       "      <th>483</th>\n",
       "      <td>2022-01-08 05:11:01.200000+00:00</td>\n",
       "      <td>220.0</td>\n",
       "    </tr>\n",
       "    <tr>\n",
       "      <th>487</th>\n",
       "      <td>2022-01-08 05:11:02.600000+00:00</td>\n",
       "      <td>220.0</td>\n",
       "    </tr>\n",
       "    <tr>\n",
       "      <th>486</th>\n",
       "      <td>2022-01-08 05:11:02.600000+00:00</td>\n",
       "      <td>220.0</td>\n",
       "    </tr>\n",
       "    <tr>\n",
       "      <th>485</th>\n",
       "      <td>2022-01-08 05:11:02.600000+00:00</td>\n",
       "      <td>220.0</td>\n",
       "    </tr>\n",
       "    <tr>\n",
       "      <th>484</th>\n",
       "      <td>2022-01-08 05:11:02.600000+00:00</td>\n",
       "      <td>220.0</td>\n",
       "    </tr>\n",
       "    <tr>\n",
       "      <th>488</th>\n",
       "      <td>2022-01-08 05:11:22.100000+00:00</td>\n",
       "      <td>221.0</td>\n",
       "    </tr>\n",
       "    <tr>\n",
       "      <th>489</th>\n",
       "      <td>2022-01-08 05:11:45.200000+00:00</td>\n",
       "      <td>221.0</td>\n",
       "    </tr>\n",
       "    <tr>\n",
       "      <th>490</th>\n",
       "      <td>2022-01-08 05:11:49.200000+00:00</td>\n",
       "      <td>221.0</td>\n",
       "    </tr>\n",
       "    <tr>\n",
       "      <th>491</th>\n",
       "      <td>2022-01-08 05:11:51.200000+00:00</td>\n",
       "      <td>221.0</td>\n",
       "    </tr>\n",
       "    <tr>\n",
       "      <th>492</th>\n",
       "      <td>2022-01-08 05:11:53.200000+00:00</td>\n",
       "      <td>221.0</td>\n",
       "    </tr>\n",
       "    <tr>\n",
       "      <th>493</th>\n",
       "      <td>2022-01-08 05:11:57.800000+00:00</td>\n",
       "      <td>221.0</td>\n",
       "    </tr>\n",
       "    <tr>\n",
       "      <th>494</th>\n",
       "      <td>2022-01-08 05:12:00.800000+00:00</td>\n",
       "      <td>221.0</td>\n",
       "    </tr>\n",
       "    <tr>\n",
       "      <th>495</th>\n",
       "      <td>2022-01-08 05:12:17.500000+00:00</td>\n",
       "      <td>221.0</td>\n",
       "    </tr>\n",
       "    <tr>\n",
       "      <th>496</th>\n",
       "      <td>2022-01-08 05:12:21.900000+00:00</td>\n",
       "      <td>221.0</td>\n",
       "    </tr>\n",
       "    <tr>\n",
       "      <th>497</th>\n",
       "      <td>2022-01-08 05:12:28.300000+00:00</td>\n",
       "      <td>224.0</td>\n",
       "    </tr>\n",
       "    <tr>\n",
       "      <th>498</th>\n",
       "      <td>2022-01-08 05:12:50.500000+00:00</td>\n",
       "      <td>224.0</td>\n",
       "    </tr>\n",
       "    <tr>\n",
       "      <th>499</th>\n",
       "      <td>2022-01-08 05:12:56.100000+00:00</td>\n",
       "      <td>224.0</td>\n",
       "    </tr>\n",
       "  </tbody>\n",
       "</table>\n",
       "</div>"
      ],
      "text/plain": [
       "                         TIME_ACTUAL  TOTAL_SCORE\n",
       "450 2022-01-08 05:03:24.900000+00:00        192.0\n",
       "451 2022-01-08 05:03:38.100000+00:00        195.0\n",
       "452 2022-01-08 05:03:57.600000+00:00        197.0\n",
       "453 2022-01-08 05:04:00.800000+00:00        197.0\n",
       "454 2022-01-08 05:04:25.500000+00:00        197.0\n",
       "455        2022-01-08 05:04:55+00:00        197.0\n",
       "456        2022-01-08 05:04:55+00:00        197.0\n",
       "457 2022-01-08 05:05:10.400000+00:00        198.0\n",
       "458 2022-01-08 05:05:28.300000+00:00        201.0\n",
       "459 2022-01-08 05:05:40.200000+00:00        204.0\n",
       "460 2022-01-08 05:05:56.200000+00:00        204.0\n",
       "461 2022-01-08 05:05:56.200000+00:00        204.0\n",
       "462 2022-01-08 05:06:06.300000+00:00        204.0\n",
       "463 2022-01-08 05:06:06.300000+00:00        204.0\n",
       "464 2022-01-08 05:06:21.900000+00:00        204.0\n",
       "465 2022-01-08 05:06:56.900000+00:00        205.0\n",
       "467 2022-01-08 05:06:57.500000+00:00        205.0\n",
       "466 2022-01-08 05:06:57.500000+00:00        205.0\n",
       "468 2022-01-08 05:07:25.500000+00:00        206.0\n",
       "469        2022-01-08 05:07:42+00:00        208.0\n",
       "470 2022-01-08 05:08:03.500000+00:00        208.0\n",
       "471 2022-01-08 05:08:03.500000+00:00        208.0\n",
       "472 2022-01-08 05:08:03.500000+00:00        208.0\n",
       "473 2022-01-08 05:08:07.500000+00:00        208.0\n",
       "474 2022-01-08 05:08:07.500000+00:00        208.0\n",
       "475 2022-01-08 05:08:36.800000+00:00        210.0\n",
       "476 2022-01-08 05:08:52.800000+00:00        212.0\n",
       "477 2022-01-08 05:09:02.900000+00:00        214.0\n",
       "478 2022-01-08 05:09:05.800000+00:00        214.0\n",
       "479 2022-01-08 05:09:34.400000+00:00        215.0\n",
       "480 2022-01-08 05:09:49.800000+00:00        217.0\n",
       "481 2022-01-08 05:10:04.700000+00:00        219.0\n",
       "482 2022-01-08 05:10:22.500000+00:00        219.0\n",
       "483 2022-01-08 05:11:01.200000+00:00        220.0\n",
       "487 2022-01-08 05:11:02.600000+00:00        220.0\n",
       "486 2022-01-08 05:11:02.600000+00:00        220.0\n",
       "485 2022-01-08 05:11:02.600000+00:00        220.0\n",
       "484 2022-01-08 05:11:02.600000+00:00        220.0\n",
       "488 2022-01-08 05:11:22.100000+00:00        221.0\n",
       "489 2022-01-08 05:11:45.200000+00:00        221.0\n",
       "490 2022-01-08 05:11:49.200000+00:00        221.0\n",
       "491 2022-01-08 05:11:51.200000+00:00        221.0\n",
       "492 2022-01-08 05:11:53.200000+00:00        221.0\n",
       "493 2022-01-08 05:11:57.800000+00:00        221.0\n",
       "494 2022-01-08 05:12:00.800000+00:00        221.0\n",
       "495 2022-01-08 05:12:17.500000+00:00        221.0\n",
       "496 2022-01-08 05:12:21.900000+00:00        221.0\n",
       "497 2022-01-08 05:12:28.300000+00:00        224.0\n",
       "498 2022-01-08 05:12:50.500000+00:00        224.0\n",
       "499 2022-01-08 05:12:56.100000+00:00        224.0"
      ]
     },
     "execution_count": 4,
     "metadata": {},
     "output_type": "execute_result"
    }
   ],
   "source": [
    "nba_live_data[[\"TIME_ACTUAL\", \"TOTAL_SCORE\"]].iloc[450:500]"
   ]
  },
  {
   "cell_type": "code",
   "execution_count": 5,
   "metadata": {},
   "outputs": [
    {
     "data": {
      "text/plain": [
       "Index(['TIME_ACTUAL', 'PERIOD', 'SCORE_HOME', 'SCORE_AWAY', 'TOTAL_SCORE',\n",
       "       'SPREAD', 'CLOCK', 'PLAYER_NAME', 'PLAYER_NAME_2', 'FOUL_TECHNICAL',\n",
       "       'FOUL_PERSONAL', 'IS_FIELD_GOAL', 'SHOT_DISTANCE', 'ASSIST_TOTAL',\n",
       "       'TURNOVER_TOTAL', 'POINTS_TOTAL', 'REBOUND_TOTAL', 'X_LEGACY',\n",
       "       'Y_LEGACY'],\n",
       "      dtype='object')"
      ]
     },
     "execution_count": 5,
     "metadata": {},
     "output_type": "execute_result"
    }
   ],
   "source": [
    "nba_live_data.columns"
   ]
  },
  {
   "cell_type": "code",
   "execution_count": 7,
   "metadata": {},
   "outputs": [
    {
     "data": {
      "image/png": "[encoded data removed]",
      "text/plain": [
       "<Figure size 432x288 with 1 Axes>"
      ]
     },
     "metadata": {
      "needs_background": "light"
     },
     "output_type": "display_data"
    }
   ],
   "source": [
    "from statsmodels.graphics.tsaplots import plot_acf\n",
    "import matplotlib.pyplot as plt\n",
    "\n",
    "data = nba_live_data[[\"TOTAL_SCORE\"]]\n",
    "plot_acf(data, lags=50)\n",
    "plt.show()"
   ]
  },
  {
   "cell_type": "code",
   "execution_count": 9,
   "metadata": {},
   "outputs": [
    {
     "data": {
      "text/plain": [
       "<AxesSubplot:>"
      ]
     },
     "execution_count": 9,
     "metadata": {},
     "output_type": "execute_result"
    },
    {
     "data": {
      "image/png": "[encoded data removed]",
      "text/plain": [
       "<Figure size 432x288 with 1 Axes>"
      ]
     },
     "metadata": {
      "needs_background": "light"
     },
     "output_type": "display_data"
    }
   ],
   "source": [
    "nba_live_data[[\"SPREAD\"]].plot()"
   ]
  },
  {
   "cell_type": "code",
   "execution_count": 8,
   "metadata": {},
   "outputs": [
    {
     "data": {
      "image/png": "[encoded data removed]",
      "text/plain": [
       "<Figure size 432x288 with 1 Axes>"
      ]
     },
     "metadata": {
      "needs_background": "light"
     },
     "output_type": "display_data"
    }
   ],
   "source": [
    "data = nba_live_data[[\"SPREAD\"]]\n",
    "plot_acf(data, lags=50)\n",
    "plt.show()"
   ]
  }
 ],
 "metadata": {
  "interpreter": {
   "hash": "3d5c941a9e5821348ddd7ba34eea5b2c5075801aaba45d04b7dcc810c607b64a"
  },
  "kernelspec": {
   "display_name": "Python 3.8.10 64-bit ('sportique': virtualenv)",
   "language": "python",
   "name": "python3"
  },
  "language_info": {
   "codemirror_mode": {
    "name": "ipython",
    "version": 3
   },
   "file_extension": ".py",
   "mimetype": "text/x-python",
   "name": "python",
   "nbconvert_exporter": "python",
   "pygments_lexer": "ipython3",
   "version": "3.8.10"
  },
  "orig_nbformat": 4
 },
 "nbformat": 4,
 "nbformat_minor": 2
}
